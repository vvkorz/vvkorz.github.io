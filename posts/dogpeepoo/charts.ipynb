{
 "cells": [
  {
   "cell_type": "code",
   "execution_count": null,
   "id": "3bc42f24-711c-4572-8768-0630722275f3",
   "metadata": {},
   "outputs": [],
   "source": [
    "#! pip install jupyter\n",
    "#! pip install pandas\n",
    "#! pip install matplotlib"
   ]
  },
  {
   "cell_type": "code",
   "execution_count": null,
   "id": "d8596971-d4b2-45c2-89f1-272284e5b728",
   "metadata": {},
   "outputs": [],
   "source": [
    "import os\n",
    "from pathlib import Path\n",
    "\n",
    "import re\n",
    "import datetime\n",
    "import pandas as pd\n",
    "\n",
    "import matplotlib.pyplot as plt\n",
    "import matplotlib.dates as mdates\n"
   ]
  },
  {
   "cell_type": "markdown",
   "id": "020e5ef9-4e91-407b-86d1-5818576da768",
   "metadata": {},
   "source": [
    "# Data preparation\n",
    "\n",
    "expecting\n",
    "\n",
    "```\n",
    ".\n",
    "├── data\n",
    "│   ├── pee.csv\n",
    "│   └── poo.csv\n",
    "└── charts.ipynb\n",
    "```"
   ]
  },
  {
   "cell_type": "code",
   "execution_count": null,
   "id": "50148b10-dc1b-4907-ab20-ada436ea2414",
   "metadata": {},
   "outputs": [],
   "source": [
    "pee = pd.read_csv('data/pee.csv', sep=',', parse_dates=['timestamp'])\n",
    "poo = pd.read_csv('data/poo.csv', sep=',', parse_dates=['timestamp'])"
   ]
  },
  {
   "cell_type": "markdown",
   "id": "bb7e4904-5dc7-4f5c-a98b-73c39ad4f551",
   "metadata": {},
   "source": [
    "# Data Cleaning"
   ]
  },
  {
   "cell_type": "markdown",
   "id": "98c4132e-4b29-4d27-afa0-6d239beeff08",
   "metadata": {},
   "source": [
    "## cut November 2023 and September 2024 data"
   ]
  },
  {
   "cell_type": "code",
   "execution_count": null,
   "id": "998176ea-d99d-4dcf-9795-6134b27cfefa",
   "metadata": {},
   "outputs": [],
   "source": [
    "f\"dates range from {pee.timestamp.min()} to {pee.timestamp.max()}. {len(pee)} pee events\""
   ]
  },
  {
   "cell_type": "code",
   "execution_count": null,
   "id": "d087eb28-0811-4d7c-9b3c-703766e9e5e7",
   "metadata": {},
   "outputs": [],
   "source": [
    "pee = pee.loc[pee.timestamp > '2023-11-30 00:00:00']\n",
    "pee = pee.loc[pee.timestamp < '2024-09-01 00:00:00']"
   ]
  },
  {
   "cell_type": "code",
   "execution_count": null,
   "id": "7bcb5f8c-875d-4c5a-9864-ee2bc6c625d8",
   "metadata": {},
   "outputs": [],
   "source": [
    "f\"dates range from {pee.timestamp.min()} to {pee.timestamp.max()}. {len(pee)} pee events\""
   ]
  },
  {
   "cell_type": "code",
   "execution_count": null,
   "id": "4c61f6c6-9717-4531-bb2c-0c7ca63bbca8",
   "metadata": {},
   "outputs": [],
   "source": [
    "f\"dates range from {poo.timestamp.min()} to {poo.timestamp.max()}. {len(poo)} poo events\""
   ]
  },
  {
   "cell_type": "code",
   "execution_count": null,
   "id": "a9917e67-d35f-4861-9c03-b96a5ebc23d4",
   "metadata": {},
   "outputs": [],
   "source": [
    "poo = poo.loc[poo.timestamp > '2023-11-30 00:00:00']\n",
    "poo = poo.loc[poo.timestamp < '2024-09-01 00:00:00']"
   ]
  },
  {
   "cell_type": "code",
   "execution_count": null,
   "id": "6867a643-7688-4c17-95e7-1056ae1377be",
   "metadata": {},
   "outputs": [],
   "source": [
    "f\"dates range from {poo.timestamp.min()} to {poo.timestamp.max()}. {len(poo)} poo events\""
   ]
  },
  {
   "cell_type": "markdown",
   "id": "77ee6d80-de20-40b6-8b58-55d650a3b776",
   "metadata": {},
   "source": [
    "# Plots"
   ]
  },
  {
   "cell_type": "code",
   "execution_count": null,
   "id": "dd76a978-5df4-4db7-b8b8-d3549d0859f8",
   "metadata": {},
   "outputs": [],
   "source": [
    "pee.shape"
   ]
  },
  {
   "cell_type": "code",
   "execution_count": null,
   "id": "4e32148c-8680-4bed-b516-d719d6e58fbe",
   "metadata": {},
   "outputs": [],
   "source": [
    "poo.shape"
   ]
  },
  {
   "cell_type": "code",
   "execution_count": null,
   "id": "950e5f15-f6f3-413f-b1d9-b239220820b6",
   "metadata": {},
   "outputs": [],
   "source": [
    "pee.head()"
   ]
  },
  {
   "cell_type": "code",
   "execution_count": null,
   "id": "93a43e4e-5641-4f7d-b575-a42d9ce94bdb",
   "metadata": {},
   "outputs": [],
   "source": [
    "def plot_per_hour(dataframe: pd.DataFrame, label: str):\n",
    "    fig, axs = plt.subplots(figsize=(12, 4))\n",
    "    dataframe.groupby(dataframe[\"timestamp\"].dt.hour).count().plot(\n",
    "        kind='bar', rot=0, ax=axs\n",
    "    )\n",
    "    plt.xlabel(\"Hour of the day\")\n",
    "    plt.ylabel(f\"# {label} events per hour\")\n",
    "plot_per_hour(pee, \"pee\")\n",
    "plot_per_hour(poo, \"poo\")"
   ]
  },
  {
   "cell_type": "code",
   "execution_count": null,
   "id": "247c3e81-dc39-48a9-b63e-8a0da10b9ac3",
   "metadata": {},
   "outputs": [],
   "source": [
    "def plot_per_weekday(dataframe: pd.DataFrame, label: str):\n",
    "    \n",
    "    fig, axs = plt.subplots(figsize=(12, 4))\n",
    "    dataframe.groupby(dataframe[\"timestamp\"].dt.dayofweek).count().plot(\n",
    "        kind='bar', rot=0, ax=axs\n",
    "    )\n",
    "    plt.xlabel(\"Day of the week\")\n",
    "    plt.ylabel(f\"# {label} events per weekday\")\n",
    "plot_per_weekday(pee, \"pee\")\n",
    "plot_per_weekday(poo, \"poo\")"
   ]
  },
  {
   "cell_type": "code",
   "execution_count": null,
   "id": "04129b38-cd54-4632-accc-eec8df91a8c6",
   "metadata": {},
   "outputs": [],
   "source": [
    "pee[\"event\"] = 1\n",
    "poo[\"event\"] = 1\n",
    "pee.tail()"
   ]
  },
  {
   "cell_type": "code",
   "execution_count": null,
   "id": "23a3df23-37d9-4374-987f-67984de7fd38",
   "metadata": {},
   "outputs": [],
   "source": [
    "def plot_events_per_week(df: pd.DataFrame, label: str):\n",
    "    weekdf = df.groupby('event').resample('W-Mon', on='timestamp').sum().loc[1].sort_values(by='timestamp')\n",
    "    fig, ax = plt.subplots(figsize=(18, 4))\n",
    "    ax.grid(True)\n",
    "    ax.bar(weekdf.index, width=4, height=weekdf['event'])\n",
    "    plt.show()\n",
    "plot_events_per_week(pee, \"pee\")\n",
    "plot_events_per_week(poo, \"poo\")"
   ]
  },
  {
   "cell_type": "code",
   "execution_count": null,
   "id": "2c6aa584-287a-4e4f-b4fe-0ac2fe1f109b",
   "metadata": {},
   "outputs": [],
   "source": [
    "\n",
    "def plot_events_per_week(df: pd.DataFrame, label: str):\n",
    "    daydf = df.groupby('event').resample('D', on='timestamp').sum().loc[1].sort_values(by='timestamp')\n",
    "    fig, ax = plt.subplots(figsize=(18, 4))\n",
    "    ax.grid(True)\n",
    "    ax.bar(daydf.index, height='event', data=daydf, alpha=0.5)\n",
    "    plt.show()\n",
    "\n",
    "plot_events_per_week(pee, \"pee\")\n",
    "plot_events_per_week(poo, \"poo\")"
   ]
  },
  {
   "cell_type": "markdown",
   "id": "73365753-f11b-4233-953d-b35c1d8ea8d7",
   "metadata": {},
   "source": [
    "## pee data\n"
   ]
  },
  {
   "cell_type": "code",
   "execution_count": null,
   "id": "dabb416f-42cd-4538-873e-83362be7d34d",
   "metadata": {},
   "outputs": [],
   "source": [
    "daydf = pee.groupby('event').resample('D', on='timestamp').sum().loc[1].sort_values(by='timestamp')\n",
    "# filter starting from december 2023\n",
    "print(daydf.shape)\n",
    "daydf.head()"
   ]
  },
  {
   "cell_type": "code",
   "execution_count": null,
   "id": "c2a243dc-fb7d-4fa2-a0a1-708c7b1cdc1f",
   "metadata": {},
   "outputs": [],
   "source": [
    "f\"dates range from {daydf.index.min()} to {daydf.index.max()}. {len(daydf)} days\""
   ]
  },
  {
   "cell_type": "code",
   "execution_count": null,
   "id": "e35b9509-89fe-41f3-a025-0f72bc197944",
   "metadata": {},
   "outputs": [],
   "source": [
    "fig, ax = plt.subplots(figsize=(18, 4))\n",
    "ax.grid(True)\n",
    "ax.bar(daydf.index, height='event', data=daydf, alpha=0.5)\n",
    "plt.show()"
   ]
  },
  {
   "cell_type": "code",
   "execution_count": null,
   "id": "dcb2d4e0-3ca7-4b7a-912f-649349eb4496",
   "metadata": {},
   "outputs": [],
   "source": [
    "# average pee per month\n",
    "daydf = daydf.reset_index()\n",
    "monthdf = daydf.groupby(pd.PeriodIndex(daydf['timestamp'], freq=\"M\"))['event'].mean().reset_index()\n",
    "monthdf['month'] = monthdf['timestamp'].dt.strftime('%b')\n",
    "monthdf.tail()"
   ]
  },
  {
   "cell_type": "code",
   "execution_count": null,
   "id": "9568bddf-f4db-40c4-9d4b-faa4df8dae28",
   "metadata": {},
   "outputs": [],
   "source": [
    "fig, ax = plt.subplots(figsize=(18, 4))\n",
    "ax.grid(True)\n",
    "ax.bar(monthdf.index, height='event', data=monthdf, alpha=0.5)\n",
    "plt.title(\"Average amount of pee per day per month\")\n",
    "plt.show()"
   ]
  },
  {
   "cell_type": "code",
   "execution_count": null,
   "id": "445154df-c49a-4c2f-95ca-2d9559cf3c3a",
   "metadata": {},
   "outputs": [],
   "source": [
    "fig, ax = plt.subplots(figsize=(18, 4))\n",
    "ax.grid(True)\n",
    "\n",
    "step = len(daydf) / len(monthdf)\n",
    "xmax = 0\n",
    "for ix, row in monthdf.iterrows():\n",
    "    monthname = row[\"month\"]\n",
    "    value = row[\"event\"]\n",
    "    xmin = xmax\n",
    "    xmax = xmin + step\n",
    "    ax.hlines(y=value, xmin=xmin, xmax=xmax)\n",
    "    \n",
    "ax.bar(daydf.index, height='event', data=daydf, alpha=0.5)\n",
    "\n",
    "#ax.set_xticks(daydf.index)\n",
    "#ax.xaxis.set_major_locator(mdates.MonthLocator(bymonth=daydf.index))\n",
    "#ax.xaxis.set_minor_locator(mdates.MonthLocator())\n",
    "#ax.xaxis.set_major_formatter(mdates.DateFormatter('%Y-%b'))\n",
    "plt.show()"
   ]
  },
  {
   "cell_type": "code",
   "execution_count": null,
   "id": "b809ccc7-e38b-425e-9ea8-0e3fe70465c4",
   "metadata": {},
   "outputs": [],
   "source": []
  },
  {
   "cell_type": "code",
   "execution_count": null,
   "id": "31cae2a6-6056-4e15-a4e2-09d7f3608bbd",
   "metadata": {},
   "outputs": [],
   "source": []
  },
  {
   "cell_type": "code",
   "execution_count": null,
   "id": "a27f9db7-7d95-49b9-b093-4cce582c52cb",
   "metadata": {},
   "outputs": [],
   "source": [
    "ppe = pe.set_index(pe[\"timestamp\"])\n",
    "ppe[\"timestamp\"] = 1\n",
    "df = ppe.resample('1d').sum()\n",
    "df.loc[~(df==0).all(axis=1)].plot.hist(bins=20, alpha=0.5)\n"
   ]
  },
  {
   "cell_type": "code",
   "execution_count": null,
   "id": "4703dd30-6ad4-474f-b140-c9ffb8de7da0",
   "metadata": {},
   "outputs": [],
   "source": [
    "kke = ke.set_index(ke[\"timestamp\"])\n",
    "kke[\"timestamp\"] = 1\n",
    "df = kke.resample('1d').sum()\n",
    "df.loc[~(df==0).all(axis=1)].plot.hist(alpha=0.5)"
   ]
  },
  {
   "cell_type": "code",
   "execution_count": null,
   "id": "da7214c6-d8b3-4446-a2f6-33dc867fcedf",
   "metadata": {},
   "outputs": [],
   "source": []
  }
 ],
 "metadata": {
  "kernelspec": {
   "display_name": "Python 3 (ipykernel)",
   "language": "python",
   "name": "python3"
  },
  "language_info": {
   "codemirror_mode": {
    "name": "ipython",
    "version": 3
   },
   "file_extension": ".py",
   "mimetype": "text/x-python",
   "name": "python",
   "nbconvert_exporter": "python",
   "pygments_lexer": "ipython3",
   "version": "3.12.4"
  },
  "widgets": {
   "application/vnd.jupyter.widget-state+json": {
    "state": {},
    "version_major": 2,
    "version_minor": 0
   }
  }
 },
 "nbformat": 4,
 "nbformat_minor": 5
}
